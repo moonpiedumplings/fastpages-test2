{
 "cells": [
  {
   "cell_type": "markdown",
   "metadata": {},
   "source": [
    "# Football Quiz\n",
    "\n",
    "- title: Football Quiz\n",
    "- toc: true\n",
    "- author: moonpie\n",
    "- comments: true\n",
    "- categories: [collegeboard]\n",
    "- tags: [python]"
   ]
  },
  {
   "cell_type": "code",
   "execution_count": 4,
   "metadata": {},
   "outputs": [
    {
     "name": "stdout",
     "output_type": "stream",
     "text": [
      "you are very smart\n",
      "1 /1\n"
     ]
    }
   ],
   "source": [
    "questions = [\"Is Jeffrey the smartest person alive\"]\n",
    "answers = [\"yes\"]\n",
    "grade = 0\n",
    "a = 0\n",
    "for q in questions:\n",
    "    answer = input(q)\n",
    "    if answer == answers[a]:\n",
    "        print(\"you are very smart\")\n",
    "        grade += 1\n",
    "    else:\n",
    "        print(\"you are dumb\")\n",
    "    a += 1\n",
    "print(grade, \"/1\")"
   ]
  }
 ],
 "metadata": {
  "kernelspec": {
   "display_name": "Python 3.9.7 ('base')",
   "language": "python",
   "name": "python3"
  },
  "language_info": {
   "codemirror_mode": {
    "name": "ipython",
    "version": 3
   },
   "file_extension": ".py",
   "mimetype": "text/x-python",
   "name": "python",
   "nbconvert_exporter": "python",
   "pygments_lexer": "ipython3",
   "version": "3.9.7"
  },
  "orig_nbformat": 4,
  "vscode": {
   "interpreter": {
    "hash": "586ad1ed5c97141e2437e681efbf1ec0adcd17d830cf5af2ca3d2819e743e158"
   }
  }
 },
 "nbformat": 4,
 "nbformat_minor": 2
}
