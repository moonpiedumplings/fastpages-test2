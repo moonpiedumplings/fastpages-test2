{
 "cells": [
  {
   "cell_type": "markdown",
   "metadata": {},
   "source": [
    "# Fun with dictionaries\n",
    "\n",
    "- title: fun with dictionaries\n",
    "- toc: true\n",
    "- author:moonpie\n",
    "- categories:[collegeboard]\n",
    "- tags:[python]"
   ]
  },
  {
   "cell_type": "code",
   "execution_count": null,
   "metadata": {},
   "outputs": [],
   "source": [
    "# First attempts at a simple question and answer program using dictionaries.\n",
    "\n",
    "f = {\"players\":\"11 players on the field\"}\n"
   ]
  }
 ],
 "metadata": {
  "kernelspec": {
   "display_name": "Python 3.9.7 ('base')",
   "language": "python",
   "name": "python3"
  },
  "language_info": {
   "name": "python",
   "version": "3.9.7"
  },
  "orig_nbformat": 4,
  "vscode": {
   "interpreter": {
    "hash": "586ad1ed5c97141e2437e681efbf1ec0adcd17d830cf5af2ca3d2819e743e158"
   }
  }
 },
 "nbformat": 4,
 "nbformat_minor": 2
}
