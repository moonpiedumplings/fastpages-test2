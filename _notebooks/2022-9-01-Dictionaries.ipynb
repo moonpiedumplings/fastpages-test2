{
 "cells": [
  {
   "cell_type": "markdown",
   "metadata": {},
   "source": [
    "# Fun with dictionaries\n",
    "\n",
    "- title: fun with dictionaries\n",
    "- toc: true\n",
    "- author:moonpie\n",
    "- categories:[collegeboard]\n",
    "- tags:[python]"
   ]
  },
  {
   "cell_type": "code",
   "execution_count": 6,
   "metadata": {},
   "outputs": [
    {
     "name": "stdout",
     "output_type": "stream",
     "text": [
      "The smartest players on the field\n"
     ]
    }
   ],
   "source": [
    "# First attempts at a simple question and answer program using dictionaries.\n",
    "\n",
    "f = {\"players\":\"11 players on the field\",\n",
    "    \"lineman\": \"The smartest players on the field\",\n",
    "    \"quarterback\": \"The dude who throws the ball\"\n",
    "    \"linebacker\": \"They bliz a lot\"\n",
    "}\n",
    "print(f[input(\"query?\")])\n",
    "\n",
    "# This could probably be expanded more. But it doesn't include interation which the assignment requires.\n"
   ]
  },
  {
   "cell_type": "code",
   "execution_count": 2,
   "metadata": {},
   "outputs": [
    {
     "name": "stdout",
     "output_type": "stream",
     "text": [
      "Khalid Farah \n",
      "\n",
      "Jeffrey Fonseca \n",
      "\n"
     ]
    }
   ],
   "source": [
    "players = []\n",
    "players.append({\n",
    "    \"name\": \"Khalid Farah\",\n",
    "    \"weight\": 195, #Weight is in pounds\n",
    "    \"positions\": [\"linebacker\"]\n",
    "})\n",
    "\n",
    "players.append({\n",
    "    \"name\": \"Jeffrey Fonseca\",\n",
    "    \"weight\": 200,\n",
    "    \"positions\": [\"Offensive lineman\", \"Defensive Lineman\"]\n",
    "})\n",
    "\n",
    "for p in players:\n",
    "    print(p[\"name\"], \"\\n\")\n",
    "\n",
    "# technically, this is all I need to complete the assignment. However, I may do more."
   ]
  },
  {
   "cell_type": "code",
   "execution_count": 12,
   "metadata": {},
   "outputs": [
    {
     "name": "stdout",
     "output_type": "stream",
     "text": [
      "weight =  200 pounds \n",
      "\n",
      "Positions played: ['Offensive lineman', 'Defensive Lineman']\n"
     ]
    }
   ],
   "source": [
    "a = input(\"Which player's stats do you want?\")\n",
    "for p in players:\n",
    "    if p[\"name\"] == a:\n",
    "        print(\"weight = \",p[\"weight\"],\"pounds \\n\")\n",
    "        print(\"Positions played:\", p[\"positions\"])"
   ]
  }
 ],
 "metadata": {
  "kernelspec": {
   "display_name": "Python 3.9.7 ('base')",
   "language": "python",
   "name": "python3"
  },
  "language_info": {
   "codemirror_mode": {
    "name": "ipython",
    "version": 3
   },
   "file_extension": ".py",
   "mimetype": "text/x-python",
   "name": "python",
   "nbconvert_exporter": "python",
   "pygments_lexer": "ipython3",
   "version": "3.9.12"
  },
  "orig_nbformat": 4,
  "vscode": {
   "interpreter": {
    "hash": "586ad1ed5c97141e2437e681efbf1ec0adcd17d830cf5af2ca3d2819e743e158"
   }
  }
 },
 "nbformat": 4,
 "nbformat_minor": 2
}
